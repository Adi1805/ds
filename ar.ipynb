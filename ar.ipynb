{
 "cells": [
  {
   "cell_type": "markdown",
   "id": "93e11305",
   "metadata": {},
   "source": [
    "# To study and understand the concept of ROC Curve and AUC in binary classification problems on Social_Network_Ads.csv dataset.\n",
    "                                           \n",
    "                                                                                     -By Aditya Nikam(TE AI & DS)"
   ]
  },
  {
   "cell_type": "code",
   "execution_count": 1,
   "id": "e5b0a1f4",
   "metadata": {},
   "outputs": [
    {
     "name": "stderr",
     "output_type": "stream",
     "text": [
      "C:\\Users\\champ\\PycharmProjects\\Tutorials\\a\\lib\\site-packages\\pandas\\core\\computation\\expressions.py:21: UserWarning: Pandas requires version '2.8.4' or newer of 'numexpr' (version '2.8.3' currently installed).\n",
      "  from pandas.core.computation.check import NUMEXPR_INSTALLED\n",
      "C:\\Users\\champ\\PycharmProjects\\Tutorials\\a\\lib\\site-packages\\pandas\\core\\arrays\\masked.py:60: UserWarning: Pandas requires version '1.3.6' or newer of 'bottleneck' (version '1.3.5' currently installed).\n",
      "  from pandas.core import (\n"
     ]
    }
   ],
   "source": [
    "import numpy as np\n",
    "import pandas as pd\n",
    "import matplotlib.pyplot as plt\n",
    "import seaborn as sns\n",
    "from sklearn.model_selection import train_test_split\n",
    "from sklearn.preprocessing import StandardScaler\n",
    "from sklearn.linear_model import LogisticRegression\n",
    "from sklearn.metrics import roc_auc_score,roc_curve\n",
    "import warnings\n",
    "warnings.filterwarnings('ignore')#we use this to ignore the warnings means in the output warnings should not appear"
   ]
  },
  {
   "cell_type": "code",
   "execution_count": 2,
   "id": "172bcb58",
   "metadata": {},
   "outputs": [
    {
     "data": {
      "text/html": [
       "<div>\n",
       "<style scoped>\n",
       "    .dataframe tbody tr th:only-of-type {\n",
       "        vertical-align: middle;\n",
       "    }\n",
       "\n",
       "    .dataframe tbody tr th {\n",
       "        vertical-align: top;\n",
       "    }\n",
       "\n",
       "    .dataframe thead th {\n",
       "        text-align: right;\n",
       "    }\n",
       "</style>\n",
       "<table border=\"1\" class=\"dataframe\">\n",
       "  <thead>\n",
       "    <tr style=\"text-align: right;\">\n",
       "      <th></th>\n",
       "      <th>User ID</th>\n",
       "      <th>Gender</th>\n",
       "      <th>Age</th>\n",
       "      <th>EstimatedSalary</th>\n",
       "      <th>Purchased</th>\n",
       "    </tr>\n",
       "  </thead>\n",
       "  <tbody>\n",
       "    <tr>\n",
       "      <th>0</th>\n",
       "      <td>15624510</td>\n",
       "      <td>Male</td>\n",
       "      <td>19.0</td>\n",
       "      <td>19000.0</td>\n",
       "      <td>0</td>\n",
       "    </tr>\n",
       "    <tr>\n",
       "      <th>1</th>\n",
       "      <td>15810944</td>\n",
       "      <td>Male</td>\n",
       "      <td>35.0</td>\n",
       "      <td>20000.0</td>\n",
       "      <td>0</td>\n",
       "    </tr>\n",
       "    <tr>\n",
       "      <th>2</th>\n",
       "      <td>15668575</td>\n",
       "      <td>Female</td>\n",
       "      <td>26.0</td>\n",
       "      <td>43000.0</td>\n",
       "      <td>0</td>\n",
       "    </tr>\n",
       "    <tr>\n",
       "      <th>3</th>\n",
       "      <td>15603246</td>\n",
       "      <td>Female</td>\n",
       "      <td>27.0</td>\n",
       "      <td>57000.0</td>\n",
       "      <td>0</td>\n",
       "    </tr>\n",
       "    <tr>\n",
       "      <th>4</th>\n",
       "      <td>15804002</td>\n",
       "      <td>Male</td>\n",
       "      <td>19.0</td>\n",
       "      <td>76000.0</td>\n",
       "      <td>0</td>\n",
       "    </tr>\n",
       "    <tr>\n",
       "      <th>...</th>\n",
       "      <td>...</td>\n",
       "      <td>...</td>\n",
       "      <td>...</td>\n",
       "      <td>...</td>\n",
       "      <td>...</td>\n",
       "    </tr>\n",
       "    <tr>\n",
       "      <th>395</th>\n",
       "      <td>15691863</td>\n",
       "      <td>Female</td>\n",
       "      <td>46.0</td>\n",
       "      <td>41000.0</td>\n",
       "      <td>1</td>\n",
       "    </tr>\n",
       "    <tr>\n",
       "      <th>396</th>\n",
       "      <td>15706071</td>\n",
       "      <td>Male</td>\n",
       "      <td>51.0</td>\n",
       "      <td>23000.0</td>\n",
       "      <td>1</td>\n",
       "    </tr>\n",
       "    <tr>\n",
       "      <th>397</th>\n",
       "      <td>15654296</td>\n",
       "      <td>Female</td>\n",
       "      <td>50.0</td>\n",
       "      <td>20000.0</td>\n",
       "      <td>1</td>\n",
       "    </tr>\n",
       "    <tr>\n",
       "      <th>398</th>\n",
       "      <td>15755018</td>\n",
       "      <td>Male</td>\n",
       "      <td>36.0</td>\n",
       "      <td>33000.0</td>\n",
       "      <td>0</td>\n",
       "    </tr>\n",
       "    <tr>\n",
       "      <th>399</th>\n",
       "      <td>15594041</td>\n",
       "      <td>Female</td>\n",
       "      <td>49.0</td>\n",
       "      <td>36000.0</td>\n",
       "      <td>1</td>\n",
       "    </tr>\n",
       "  </tbody>\n",
       "</table>\n",
       "<p>400 rows × 5 columns</p>\n",
       "</div>"
      ],
      "text/plain": [
       "      User ID  Gender   Age  EstimatedSalary  Purchased\n",
       "0    15624510    Male  19.0          19000.0          0\n",
       "1    15810944    Male  35.0          20000.0          0\n",
       "2    15668575  Female  26.0          43000.0          0\n",
       "3    15603246  Female  27.0          57000.0          0\n",
       "4    15804002    Male  19.0          76000.0          0\n",
       "..        ...     ...   ...              ...        ...\n",
       "395  15691863  Female  46.0          41000.0          1\n",
       "396  15706071    Male  51.0          23000.0          1\n",
       "397  15654296  Female  50.0          20000.0          1\n",
       "398  15755018    Male  36.0          33000.0          0\n",
       "399  15594041  Female  49.0          36000.0          1\n",
       "\n",
       "[400 rows x 5 columns]"
      ]
     },
     "execution_count": 2,
     "metadata": {},
     "output_type": "execute_result"
    }
   ],
   "source": [
    "df=pd.read_csv(r\"C:\\Users\\champ\\Downloads\\Social_Network_Ads.csv\")#this is to import the dataset.\n",
    "#The dataset is a csv file.df is the name given to the dataset\n",
    "df#this is written to display the dataset"
   ]
  },
  {
   "cell_type": "code",
   "execution_count": 3,
   "id": "80abba99",
   "metadata": {},
   "outputs": [],
   "source": [
    "#AUC means Area Under Curve and ROC means Receiver Operating Characterstics\n",
    "#It is a graph that helps us understand how good a classification model is at separating two classes, like Yes or No\n",
    "#Email spam or not spam etc means basically binary clasification\n",
    "\n",
    "#Imagine you built a model that predicts whether a person has a disease or not.\n",
    "#The ROC Curve tells you:\n",
    "#“How well is my model separating the sick from the healthy people?”\n",
    "\n",
    "#Suppose we have S shaped curve of logistic regression.We have to predict whether a person has disease or not.We know that\n",
    "#we have a value called as threshold in logistic regression which is by default 0.5.Now suppose we have to predict that \n",
    "#whether has a disease or not\n",
    "\n",
    "#Threshold value is value that decides whether the model output is 1 or 0.We can change threshold value to any number\n",
    "#between 0 and 1 like 0.6,0.7,0.3 etc\n",
    "\n",
    "#Example:\n",
    "#Let’s say the model predicts:\n",
    "\n",
    "#Person        Probability of having a disease\n",
    "#A                   0.9\n",
    "#B                   0.7\n",
    "#C                   0.4\n",
    "#D                   0.1\n",
    "\n",
    "#Now if we set the threshold = 0.5:\n",
    "#Person A (0.9) → Yes\n",
    "#Person B (0.7) → Yes\n",
    "#Person C (0.4) → No\n",
    "#Person D (0.1) → No\n",
    "\n",
    "#If probablity is greater than or equal to threshold then the output will be 1 and if less than threshold then output\n",
    "#will be zero\n",
    "\n",
    "#ROC Curve is the curve between True Positve Rate(TPR) and False Positive Rate(FPR)"
   ]
  },
  {
   "cell_type": "code",
   "execution_count": 4,
   "id": "9f9b207b",
   "metadata": {},
   "outputs": [
    {
     "data": {
      "text/html": [
       "<div>\n",
       "<style scoped>\n",
       "    .dataframe tbody tr th:only-of-type {\n",
       "        vertical-align: middle;\n",
       "    }\n",
       "\n",
       "    .dataframe tbody tr th {\n",
       "        vertical-align: top;\n",
       "    }\n",
       "\n",
       "    .dataframe thead th {\n",
       "        text-align: right;\n",
       "    }\n",
       "</style>\n",
       "<table border=\"1\" class=\"dataframe\">\n",
       "  <thead>\n",
       "    <tr style=\"text-align: right;\">\n",
       "      <th></th>\n",
       "      <th>User ID</th>\n",
       "      <th>Gender</th>\n",
       "      <th>Age</th>\n",
       "      <th>EstimatedSalary</th>\n",
       "      <th>Purchased</th>\n",
       "    </tr>\n",
       "  </thead>\n",
       "  <tbody>\n",
       "    <tr>\n",
       "      <th>0</th>\n",
       "      <td>15624510</td>\n",
       "      <td>Male</td>\n",
       "      <td>19.0</td>\n",
       "      <td>19000.0</td>\n",
       "      <td>0</td>\n",
       "    </tr>\n",
       "    <tr>\n",
       "      <th>1</th>\n",
       "      <td>15810944</td>\n",
       "      <td>Male</td>\n",
       "      <td>35.0</td>\n",
       "      <td>20000.0</td>\n",
       "      <td>0</td>\n",
       "    </tr>\n",
       "    <tr>\n",
       "      <th>2</th>\n",
       "      <td>15668575</td>\n",
       "      <td>Female</td>\n",
       "      <td>26.0</td>\n",
       "      <td>43000.0</td>\n",
       "      <td>0</td>\n",
       "    </tr>\n",
       "    <tr>\n",
       "      <th>3</th>\n",
       "      <td>15603246</td>\n",
       "      <td>Female</td>\n",
       "      <td>27.0</td>\n",
       "      <td>57000.0</td>\n",
       "      <td>0</td>\n",
       "    </tr>\n",
       "    <tr>\n",
       "      <th>4</th>\n",
       "      <td>15804002</td>\n",
       "      <td>Male</td>\n",
       "      <td>19.0</td>\n",
       "      <td>76000.0</td>\n",
       "      <td>0</td>\n",
       "    </tr>\n",
       "  </tbody>\n",
       "</table>\n",
       "</div>"
      ],
      "text/plain": [
       "    User ID  Gender   Age  EstimatedSalary  Purchased\n",
       "0  15624510    Male  19.0          19000.0          0\n",
       "1  15810944    Male  35.0          20000.0          0\n",
       "2  15668575  Female  26.0          43000.0          0\n",
       "3  15603246  Female  27.0          57000.0          0\n",
       "4  15804002    Male  19.0          76000.0          0"
      ]
     },
     "execution_count": 4,
     "metadata": {},
     "output_type": "execute_result"
    }
   ],
   "source": [
    "df.head()#it display the first five rows of the dataset.Its default value is 5"
   ]
  },
  {
   "cell_type": "code",
   "execution_count": 5,
   "id": "1a194d63",
   "metadata": {},
   "outputs": [
    {
     "data": {
      "text/html": [
       "<div>\n",
       "<style scoped>\n",
       "    .dataframe tbody tr th:only-of-type {\n",
       "        vertical-align: middle;\n",
       "    }\n",
       "\n",
       "    .dataframe tbody tr th {\n",
       "        vertical-align: top;\n",
       "    }\n",
       "\n",
       "    .dataframe thead th {\n",
       "        text-align: right;\n",
       "    }\n",
       "</style>\n",
       "<table border=\"1\" class=\"dataframe\">\n",
       "  <thead>\n",
       "    <tr style=\"text-align: right;\">\n",
       "      <th></th>\n",
       "      <th>User ID</th>\n",
       "      <th>Gender</th>\n",
       "      <th>Age</th>\n",
       "      <th>EstimatedSalary</th>\n",
       "      <th>Purchased</th>\n",
       "    </tr>\n",
       "  </thead>\n",
       "  <tbody>\n",
       "    <tr>\n",
       "      <th>0</th>\n",
       "      <td>15624510</td>\n",
       "      <td>1</td>\n",
       "      <td>19.0</td>\n",
       "      <td>19000.0</td>\n",
       "      <td>0</td>\n",
       "    </tr>\n",
       "    <tr>\n",
       "      <th>1</th>\n",
       "      <td>15810944</td>\n",
       "      <td>1</td>\n",
       "      <td>35.0</td>\n",
       "      <td>20000.0</td>\n",
       "      <td>0</td>\n",
       "    </tr>\n",
       "    <tr>\n",
       "      <th>2</th>\n",
       "      <td>15668575</td>\n",
       "      <td>0</td>\n",
       "      <td>26.0</td>\n",
       "      <td>43000.0</td>\n",
       "      <td>0</td>\n",
       "    </tr>\n",
       "    <tr>\n",
       "      <th>3</th>\n",
       "      <td>15603246</td>\n",
       "      <td>0</td>\n",
       "      <td>27.0</td>\n",
       "      <td>57000.0</td>\n",
       "      <td>0</td>\n",
       "    </tr>\n",
       "    <tr>\n",
       "      <th>4</th>\n",
       "      <td>15804002</td>\n",
       "      <td>1</td>\n",
       "      <td>19.0</td>\n",
       "      <td>76000.0</td>\n",
       "      <td>0</td>\n",
       "    </tr>\n",
       "  </tbody>\n",
       "</table>\n",
       "</div>"
      ],
      "text/plain": [
       "    User ID  Gender   Age  EstimatedSalary  Purchased\n",
       "0  15624510       1  19.0          19000.0          0\n",
       "1  15810944       1  35.0          20000.0          0\n",
       "2  15668575       0  26.0          43000.0          0\n",
       "3  15603246       0  27.0          57000.0          0\n",
       "4  15804002       1  19.0          76000.0          0"
      ]
     },
     "execution_count": 5,
     "metadata": {},
     "output_type": "execute_result"
    }
   ],
   "source": [
    "#Lets convert Gender column values into numerical\n",
    "df[\"Gender\"]=df[\"Gender\"].replace({\"Female\":0,\"Male\":1})#Now 1 represents male and 0 represents female\n",
    "df.head()\n",
    "#We converted the Gender column values to 1 and 0 because we are going to apply Logistic Regression and all machine \n",
    "#learning algorithms only understand numeric data and not categorical so we converted the values\n",
    "#Now all data in dataset is numeric now we can appy Logistic Regression"
   ]
  },
  {
   "cell_type": "code",
   "execution_count": 6,
   "id": "1a1cbe05",
   "metadata": {},
   "outputs": [],
   "source": [
    "x=df[[\"User ID\",\"Gender\",\"Age\",\"EstimatedSalary\"]]#Input to our model\n",
    "y=df[\"Purchased\"]#this is the output of our model"
   ]
  },
  {
   "cell_type": "code",
   "execution_count": 7,
   "id": "215b6c93",
   "metadata": {},
   "outputs": [],
   "source": [
    "xtrain, xtest, ytrain, ytest = train_test_split(x, y, test_size=0.2, random_state=42)#We are dividing the values of the User\n",
    "#ID,Gender,Age and Estimated Salary which are inputs(X) for the model and Purchased which is output for the model(Y)\n",
    "#So we are dividing their values into training and testing 80% of data is training\n",
    "#test_size=0.2 denotes 20% of data wil be testing dataset\n",
    "#random state ensures that whenever we run the program every time the same values of the data are taken for training \n",
    "#and testing means suppose we have 100 records in our data out of which we are using 80  for training and 20 for testing\n",
    "#so every time the same 80 values will be in training and same 20 values will be in testing means not a single record of \n",
    "#training data will go in the testing data and not single value of testing data will come in training data means there will\n",
    "#be no shuffling of records the same data will be used for training and testing every time we run the program this is \n",
    "#the use of random state\n",
    "\n",
    "#In random_state=42 42 is just a normal number there is no role of zero we have to just write it when we are using \n",
    "#random_state  we can use any other number other than zero as well like 1,4,10 etc.42 is the most common number you see\n",
    "#in programs"
   ]
  },
  {
   "cell_type": "code",
   "execution_count": 8,
   "id": "3a509df7",
   "metadata": {},
   "outputs": [],
   "source": [
    "model = LogisticRegression()#we created object of Logistic Regression\n",
    "\n",
    "#Logistic Regression is used for classification problems.In Linear regression we predicted numerical value but \n",
    "#Logistic Regression is used to predict categorial value like whether the email is spam or not(binary classification as \n",
    "#only two values “spam” or “not spam”),Positive or Negative,Pass or Fail,Yes or No,True or False,will the customer buy \n",
    "#insurance or not etc.In Logistic Regression the Sigmoid Function converts the Input variable(X) between 0 and 1.\n",
    "#The formula of Sigmoid function is  y=1/1+e^-x here y is dependent variable(what we want to predict) and x is Independent\n",
    "#variable and  the graph is of S shape."
   ]
  },
  {
   "cell_type": "code",
   "execution_count": 9,
   "id": "a41154fe",
   "metadata": {},
   "outputs": [
    {
     "data": {
      "text/plain": [
       "LogisticRegression()"
      ]
     },
     "execution_count": 9,
     "metadata": {},
     "output_type": "execute_result"
    }
   ],
   "source": [
    "model.fit(xtrain, ytrain)#it teaches the Logistic regression model using the training dataset means here we have the inputs\n",
    "#in xtrain and we have outputs also already defit for the inputs in ytrain now the model learns this data so that it \n",
    "#can predict values when any unseen/new data comes to predict"
   ]
  },
  {
   "cell_type": "code",
   "execution_count": 10,
   "id": "fbcb32e7",
   "metadata": {},
   "outputs": [],
   "source": [
    "y_pred = model.predict(xtest)#it tells the model to predict the output for the input(xtest).We are testing the model here\n",
    "#after training"
   ]
  },
  {
   "cell_type": "code",
   "execution_count": 11,
   "id": "1ef0c10d",
   "metadata": {},
   "outputs": [
    {
     "data": {
      "text/plain": [
       "0.7375"
      ]
     },
     "execution_count": 11,
     "metadata": {},
     "output_type": "execute_result"
    }
   ],
   "source": [
    "from sklearn.metrics import accuracy_score #sklearn.metric is used to import metrics\n",
    "score=accuracy_score(ytest,y_pred)#Accuracy score formula is number of correct predictions/total no.of predictions\n",
    "#ytest means the correct outputs and y_predicted means predicted outputs\n",
    "score#We see that our accuracy is 0.7375 means 73.75% so it is not very good nor very bad\n",
    "#To"
   ]
  },
  {
   "cell_type": "code",
   "execution_count": 12,
   "id": "c37a8146",
   "metadata": {},
   "outputs": [
    {
     "data": {
      "text/plain": [
       "array([0, 0, 0, 0, 0, 0, 1, 0, 0, 0, 0, 0, 0, 0, 0, 1, 0, 0, 0, 0, 0, 0,\n",
       "       0, 0, 0, 0, 0, 0, 1, 0, 0, 0, 1, 0, 1, 0, 0, 0, 0, 0, 0, 0, 0, 0,\n",
       "       0, 1, 0, 0, 0, 0, 0, 0, 0, 0, 0, 0, 1, 1, 0, 0, 0, 0, 0, 0, 0, 1,\n",
       "       0, 1, 0, 1, 1, 0, 0, 0, 0, 0, 1, 0, 0, 0], dtype=int64)"
      ]
     },
     "execution_count": 12,
     "metadata": {},
     "output_type": "execute_result"
    }
   ],
   "source": [
    "yprobs=model.predict_proba(xtest)[:,-1]\n",
    "y_pred#it gives the probablities of y_pred values for each ytest values"
   ]
  },
  {
   "cell_type": "code",
   "execution_count": 13,
   "id": "a93fcf70",
   "metadata": {},
   "outputs": [
    {
     "name": "stdout",
     "output_type": "stream",
     "text": [
      "FPR= [0.         0.         0.         0.05769231 0.05769231 0.11538462\n",
      " 0.11538462 0.25       0.25       0.51923077 0.51923077 0.82692308\n",
      " 0.82692308 0.90384615 0.90384615 0.92307692 0.92307692 0.96153846\n",
      " 0.96153846 1.        ]\n",
      "TPR= [0.         0.         0.         0.05769231 0.05769231 0.11538462\n",
      " 0.11538462 0.25       0.25       0.51923077 0.51923077 0.82692308\n",
      " 0.82692308 0.90384615 0.90384615 0.92307692 0.92307692 0.96153846\n",
      " 0.96153846 1.        ]\n",
      "Threshold= [1.76768175 0.76768175 0.6725371  0.56897468 0.45040132 0.4243592\n",
      " 0.41341953 0.38807756 0.37465879 0.28410253 0.28348805 0.20319558\n",
      " 0.1695798  0.1473997  0.13853513 0.13848618 0.13645934 0.13124881\n",
      " 0.12912214 0.1264397 ]\n"
     ]
    }
   ],
   "source": [
    "fpr, tpr, thresholds = roc_curve(ytest, yprobs)#it calculates the values of fpr,tpr and thresholds which are needed for \n",
    "#ROC curve\n",
    "print(\"FPR=\",fpr)\n",
    "print(\"TPR=\",fpr)\n",
    "print(\"Threshold=\",thresholds)"
   ]
  },
  {
   "cell_type": "code",
   "execution_count": 14,
   "id": "a8359926",
   "metadata": {},
   "outputs": [
    {
     "name": "stdout",
     "output_type": "stream",
     "text": [
      "AUC Score:0.64\n"
     ]
    }
   ],
   "source": [
    "auc_score=roc_auc_score(ytest,yprobs)#it calculates the AUC score\n",
    "print(f\"AUC Score:{auc_score:.2f}\")"
   ]
  },
  {
   "cell_type": "code",
   "execution_count": 15,
   "id": "f954f818",
   "metadata": {},
   "outputs": [
    {
     "data": {
      "image/png": "[encoded data removed]",
      "text/plain": [
       "<Figure size 800x600 with 1 Axes>"
      ]
     },
     "metadata": {},
     "output_type": "display_data"
    }
   ],
   "source": [
    "plt.figure(figsize=(8,6))#it sets the size of the plot as 8 inches wide and 6 inches tall\n",
    "plt.plot(fpr, tpr, color='blue', label=f'AUC={auc_score:.2f}')  # it plots the fpr and tpr values in the plot\n",
    "#so that we get our roc curve in blue color\n",
    "#area = %0.2f means show AUC value upto 2 decimal places only\n",
    "plt.plot([0, 1], [0, 1], color='red', linestyle='--')#It draw a red dotted line from point(0,0)to point(1,1) means it draws \n",
    "#centre line for the plot\n",
    "plt.xlabel('False Positive Rate')#label given to x axis\n",
    "plt.ylabel('True Positive Rate')#label given to y axis\n",
    "plt.title('Receiver Operating Characteristic')\n",
    "plt.legend(loc=\"lower right\")#position of legend is set to lower right of the plot\n",
    "plt.grid(True)#it draws grid line on the plot\n",
    "plt.show()#used to diplay the plot"
   ]
  },
  {
   "cell_type": "code",
   "execution_count": null,
   "id": "2a165fd9",
   "metadata": {},
   "outputs": [],
   "source": []
  }
 ],
 "metadata": {
  "kernelspec": {
   "display_name": "Python 3 (ipykernel)",
   "language": "python",
   "name": "python3"
  },
  "language_info": {
   "codemirror_mode": {
    "name": "ipython",
    "version": 3
   },
   "file_extension": ".py",
   "mimetype": "text/x-python",
   "name": "python",
   "nbconvert_exporter": "python",
   "pygments_lexer": "ipython3",
   "version": "3.9.13"
  }
 },
 "nbformat": 4,
 "nbformat_minor": 5
}
